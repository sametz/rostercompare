{
 "cells": [
  {
   "cell_type": "markdown",
   "metadata": {},
   "source": [
    "This notebook will be used to compare two .csv student rosters and find differences between them.  Currently using the Canvas gradebook as roster source."
   ]
  },
  {
   "cell_type": "code",
   "execution_count": null,
   "metadata": {
    "collapsed": true
   },
   "outputs": [],
   "source": [
    "import numpy as np\n",
    "import pandas as pd"
   ]
  },
  {
   "cell_type": "code",
   "execution_count": null,
   "metadata": {
    "collapsed": true
   },
   "outputs": [],
   "source": [
    "# Enter names of the files to be compared below. \n",
    "old_roster_name = '17F-CHEM215_2017_09_05.csv'\n",
    "new_roster_name = '17F-CHEM215_2017_09_13.csv'"
   ]
  },
  {
   "cell_type": "code",
   "execution_count": null,
   "metadata": {},
   "outputs": [],
   "source": [
    "OldRosterFrame = pd.read_csv(old_roster_name)\n",
    "NewRosterFrame = pd.read_csv(new_roster_name)\n",
    "OldRosterFrame.head()"
   ]
  },
  {
   "cell_type": "code",
   "execution_count": null,
   "metadata": {
    "collapsed": true
   },
   "outputs": [],
   "source": [
    "rosters = [OldRosterFrame, NewRosterFrame]"
   ]
  },
  {
   "cell_type": "code",
   "execution_count": null,
   "metadata": {},
   "outputs": [],
   "source": [
    "\n",
    "for i, df in enumerate(rosters):\n",
    "    # If there's no student ID number, it's a junk row that can be deleted\n",
    "    df=df.dropna(subset=['SIS User ID', 'SIS Login ID'])\n",
    "    \n",
    "    # Trim to essentials\n",
    "    ct = [col for col in df.columns]\n",
    "    cols_to_drop = ct[5:]  # Drop all columns after Section\n",
    "    # print(cols_to_drop)\n",
    "    df = df.drop(cols_to_drop, axis=1)\n",
    "    rosters[i] = df\n",
    "    print(rosters[i].head())"
   ]
  },
  {
   "cell_type": "code",
   "execution_count": null,
   "metadata": {
    "collapsed": true
   },
   "outputs": [],
   "source": [
    "OldRosterFrame = rosters[0]\n",
    "NewRosterFrame = rosters[1]\n"
   ]
  },
  {
   "cell_type": "code",
   "execution_count": null,
   "metadata": {},
   "outputs": [],
   "source": [
    "IdMerge = pd.merge(OldRosterFrame, NewRosterFrame, how='outer', on='SIS Login ID', suffixes=['_old', '_new'])\n",
    "IdMerge.head()"
   ]
  },
  {
   "cell_type": "code",
   "execution_count": null,
   "metadata": {},
   "outputs": [],
   "source": [
    "for index, row in IdMerge.iterrows():\n",
    "    if row.Student_old != row.Student_new:\n",
    "    #if row.Student_new == 'nan':\n",
    "#         print(row.Student_old, row.Student_new)\n",
    "        if pd.notnull(row.Student_old) and pd.isnull(row.Student_new):\n",
    "            print(row.Student_old, ' dropped out of Section ', row.Section_old)\n",
    "        elif pd.isnull(row.Student_old) and pd.notnull(row.Student_new):\n",
    "            print(row.Student_new, ' registered into Section ', row.Section_new)\n",
    "        else:\n",
    "            print('Something weird is going on with ', row.Student_old, ' / ', row.Student_new)\n",
    "    else:\n",
    "        if row.Section_old != row.Section_new:\n",
    "            print(row.Student_old, ' transferred from Section ',row.Section_old, ' to Section ', row.Section_new)"
   ]
  },
  {
   "cell_type": "code",
   "execution_count": null,
   "metadata": {
    "collapsed": true
   },
   "outputs": [],
   "source": []
  }
 ],
 "metadata": {
  "kernelspec": {
   "display_name": "Python [conda root]",
   "language": "python",
   "name": "conda-root-py"
  },
  "language_info": {
   "codemirror_mode": {
    "name": "ipython",
    "version": 3
   },
   "file_extension": ".py",
   "mimetype": "text/x-python",
   "name": "python",
   "nbconvert_exporter": "python",
   "pygments_lexer": "ipython3",
   "version": "3.5.3"
  }
 },
 "nbformat": 4,
 "nbformat_minor": 2
}
